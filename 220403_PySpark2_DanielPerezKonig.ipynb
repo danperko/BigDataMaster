{
 "cells": [
  {
   "cell_type": "markdown",
   "metadata": {},
   "source": [
    "# Lab 10 Asignación 2\n",
    "Al fnal de año hay muchos departamentos de la compañía que necesitan diferentes datos para presentar sus informes externos o para analizar los resultados.\n",
    "\n",
    "El director de Data y Business Intelligence se ha reunido con su equipo de Data Engineering y les ha comunicado los datasets que tienen que generar para responder a a las diferentes peticiones y a las preguntas de negocio.\n",
    "\n",
    "Para llevar la tarea a cabo se han ingestado diferentes ficheros de texto procedentes de las diferentes bases de datos de los sistemas de gestión de la compañía.\n",
    "\n",
    "1. \"transactions-asignment.csv\". Es el fichero con todas las transaccioned del año 2018 con columnas: TransactionID, CustomerID, Date, Product, Group, Amount, PaymentType, Country.\n",
    "2. \"customer-data-asignment.csv\". Es el fichero con los datos de los clientes y con columnas CustomerID, CardNumber. Contiene la relación entre cada cliente y su número de tarjeta de crédito.\n",
    "3. \"country-vat.csv\". Es el fichero con las columnas: VAT, Country. Contiene la relación de cada país con el IVA soportado para los productos.\n",
    "4. Los productos se han nominado con etiquetas: A to J.\n",
    "5. Los grupos a los que pertenecen los productos son: 'Food', 'Leisure', 'Restaurant', 'Gym', 'Gambling', 'Travel', 'Learning'.\n",
    "6. El tipo de pago contiene: 'Visa', 'Cash', 'American', 'PayPal', 'Mastercard', 'Check'.\n",
    "7. Los países desde donde se han producido las transacciones son: 'Italy', 'France', 'Germany', 'USA', 'Brasil', 'UK', 'Switzerland', 'Sweden', 'Denmark', 'Canada', 'Mexico', 'Russia'.\n",
    "\n",
    "Los informes que se piden son los siguientes:\n",
    "1. El departamento de Marketing de productos quiere analizar las transacciones mensuales por país respecto al cada grupo y a cada producto dentro del grupo. Por esta razón necesita dos Dataframes: uno agrupado por cada grupo y otro agrupado por cada producto dentro de cada grupo. Las columnas para el primer DataFrame deberían ser: *Country, Month, Group, TotalMonth, AvgMonth, Number of Transactions*. Y para el segundo deberían ser: *Country, Month, Group, Product, TotalMonth, AvgMonth, Number of Transactions*. Cuántos registros tiene cada DataFrame?\n",
    "2. Podríamos decir al departamento de Marketing *cuál es el país y el mes con el mayor importe de las transacciones para el grupo Restaurant*? Cuántas transacciones se han realizado para ese país y ese mes?\n",
    "3. Podríamos decir al departamento de Marketing *cuál es el producto que más importe mensual ha tenido para el grupo de Gambling y cuál es el país y el mes*?\n",
    "4. El departamento financiero necesita liquidar el IVA anual (el total para cada transacción es bruto) para cada país con las autoridades del Tesoro. Podríamos decir al departameto financiero *cuál es el país con el que debemos liquidar la mayor cantidad de IVA y cuál es esa cantidad*? Y *cuál es el país con el que deberemos liquidar el menor importe de IVA*? \n",
    "5. También necesita saber el total anual por tipo de pago (excepto los pagos en cash) para liquidar con los bancos. Podríamos decir al departamento financiero *cuál es la cantidad total por tipo de pago*?\n",
    "6. Quién es nuestro mejor cliente y cuál es su número de tarjeta de crédito?\n",
    "7. Calcular el total por tipo de pago procedente de USA y de fuera de USA.\n",
    "8. Cuál es la proporción entre lo que viene de USA y lo que viene de fuera de USA por tipo de pago?\n",
    "\n",
    "Hint para 4: Para calcular la liquidación por IVA, deberemos hacer un `join` del Dataframe de transacciones con el Dataframe de países, reando una nueva columna con el IVA correspondiente a cada transacción y luego agrupar por país y agregar la suma de la columna creada.\n",
    "\n",
    "Hint para 5: Deberemos filtrar el Dataframe para suprimir los pagos en cash, agrupar por tipo de pago y agregar la suma total."
   ]
  },
  {
   "cell_type": "code",
   "execution_count": 1,
   "metadata": {},
   "outputs": [],
   "source": [
    "import os\n",
    "import sys\n",
    "\n",
    "os.environ['SPARK_HOME'] = \"C:\\\\spark-3.0.3-bin-hadoop2.7\\\\\"\n",
    "SPARK_HOME = os.environ['SPARK_HOME']\n",
    "# PYTHONPATH=$SPARK_HOME/python:$SPARK_HOME/python/lib/py4j-0.10.9-src.zip:$PYTHONPATH\n",
    "# Añadimos los correspondientes paths de las librerias de python\n",
    "sys.path.insert(0, os.path.join(SPARK_HOME, \"python\"))\n",
    "sys.path.insert(0, os.path.join(SPARK_HOME, \"python\", \"lib\"))\n",
    "sys.path.insert(0, os.path.join(SPARK_HOME, \"python\", \"lib\",\"pyspark.zip\"))\n",
    "sys.path.insert(0, os.path.join(SPARK_HOME, \"python\", \"lib\", \"py4j-0.10.9-src.zip\"))\n",
    "\n",
    "# Importamos la funcion\n",
    "from pyspark.sql import SparkSession\n",
    "\n",
    "# Creamos la sesion\n",
    "spark = SparkSession \\\n",
    "            .builder \\\n",
    "            .master(\"local[*]\") \\\n",
    "            .appName(\"Lab8\") \\\n",
    "            .config(\"spark.executor.memory\", \"6g\") \\\n",
    "            .config(\"spark.cores.max\", \"4\") \\\n",
    "            .getOrCreate()\n",
    "\n",
    "\n",
    "# Creamos el sparkContext de la sesion    \n",
    "sc = spark.sparkContext"
   ]
  },
  {
   "cell_type": "code",
   "execution_count": 2,
   "metadata": {},
   "outputs": [
    {
     "data": {
      "text/html": [
       "\n",
       "        <div>\n",
       "            <p><b>SparkContext</b></p>\n",
       "\n",
       "            <p><a href=\"http://Arrakis:4040\">Spark UI</a></p>\n",
       "\n",
       "            <dl>\n",
       "              <dt>Version</dt>\n",
       "                <dd><code>v3.0.3</code></dd>\n",
       "              <dt>Master</dt>\n",
       "                <dd><code>local[*]</code></dd>\n",
       "              <dt>AppName</dt>\n",
       "                <dd><code>Lab8</code></dd>\n",
       "            </dl>\n",
       "        </div>\n",
       "        "
      ],
      "text/plain": [
       "<SparkContext master=local[*] appName=Lab8>"
      ]
     },
     "execution_count": 2,
     "metadata": {},
     "output_type": "execute_result"
    }
   ],
   "source": [
    "sc"
   ]
  },
  {
   "cell_type": "code",
   "execution_count": 3,
   "metadata": {},
   "outputs": [
    {
     "data": {
      "text/plain": [
       "[('spark.executor.id', 'driver'),\n",
       " ('spark.app.id', 'local-1647602475351'),\n",
       " ('spark.cores.max', '4'),\n",
       " ('spark.app.startTime', '1647602474522'),\n",
       " ('spark.executor.memory', '6g'),\n",
       " ('spark.app.name', 'Lab8'),\n",
       " ('spark.driver.host', 'Arrakis'),\n",
       " ('spark.rdd.compress', 'True'),\n",
       " ('spark.serializer.objectStreamReset', '100'),\n",
       " ('spark.driver.port', '52537'),\n",
       " ('spark.master', 'local[*]'),\n",
       " ('spark.submit.pyFiles', ''),\n",
       " ('spark.submit.deployMode', 'client'),\n",
       " ('spark.ui.showConsoleProgress', 'true')]"
      ]
     },
     "execution_count": 3,
     "metadata": {},
     "output_type": "execute_result"
    }
   ],
   "source": [
    "sc.getConf().getAll()"
   ]
  },
  {
   "cell_type": "markdown",
   "metadata": {},
   "source": [
    "### 1. Creating a DataFrame"
   ]
  },
  {
   "cell_type": "code",
   "execution_count": 4,
   "metadata": {
    "scrolled": true
   },
   "outputs": [
    {
     "name": "stdout",
     "output_type": "stream",
     "text": [
      "+--------------------+----------+-------------------+-------+----------+------+-----------+-----------+\n",
      "|       TransactionID|CustomerID|               Date|Product|     Group|Amount|PaymentType|    Country|\n",
      "+--------------------+----------+-------------------+-------+----------+------+-----------+-----------+\n",
      "|7564e71a-3050-11e...|      4255|2018-07-18 02:36:00|      I|       Gym| 231.0|   American|     Sweden|\n",
      "|7565ad98-3050-11e...|     30514|2018-03-08 07:37:00|      D|       Gym|  59.7|      Check|     Mexico|\n",
      "|7565ad99-3050-11e...|      3853|2018-12-04 10:25:00|      B|    Travel|3782.0|       Cash|     Mexico|\n",
      "|7565ad9a-3050-11e...|     49729|2018-04-12 19:23:00|      I|  Gambling| 231.0|      Check|      Italy|\n",
      "|7565ad9b-3050-11e...|     33467|2018-02-01 23:17:00|      G|      Food|289.26| Mastercard|     Sweden|\n",
      "|7565ad9c-3050-11e...|     45120|2018-09-08 11:21:00|      I|Restaurant|  23.1|      Check|         UK|\n",
      "|7565ad9d-3050-11e...|      9965|2018-11-06 08:27:00|      C|    Travel|2590.0|      Check|Switzerland|\n",
      "|7565ad9e-3050-11e...|     20404|2018-08-05 00:47:00|      J|   Leisure| 12.93| Mastercard|    Denmark|\n",
      "|7565ad9f-3050-11e...|     46043|2018-08-04 05:07:00|      A|       Gym| 234.0|       Visa|     Brasil|\n",
      "|7565ada0-3050-11e...|      7053|2018-02-23 07:59:00|      E|       Gym| 93.47|       Visa|    Denmark|\n",
      "|7565ada1-3050-11e...|      6692|2018-02-28 16:19:00|      F|  Learning| 350.0|     PayPal|     Mexico|\n",
      "|7565ada2-3050-11e...|     30493|2018-06-28 24:43:00|      A|       Gym| 234.0|      Check|      Italy|\n",
      "|7565ada3-3050-11e...|     31664|2018-10-27 21:00:00|      I|  Gambling| 231.0|       Visa|     Mexico|\n",
      "|7565ada4-3050-11e...|     32542|2018-09-20 05:01:00|      J|   Leisure| 12.93|     PayPal|    Denmark|\n",
      "|7565ada5-3050-11e...|     46420|2018-10-07 08:50:00|      G|  Learning|  60.0|       Cash|     Russia|\n",
      "|7565ada6-3050-11e...|     12549|2018-10-28 20:39:00|      E|  Gambling| 334.7|      Check|    Germany|\n",
      "|7565ada7-3050-11e...|     31171|2018-10-25 23:60:00|      C|      Food| 90.45|      Check|     Russia|\n",
      "|7565ada8-3050-11e...|     16362|2018-03-06 06:46:00|      D|      Food|125.78|      Check|     Canada|\n",
      "|7565ada9-3050-11e...|     39546|2018-10-14 02:17:00|      D|      Food|125.78|       Cash|    Germany|\n",
      "|7565adaa-3050-11e...|      7571|2018-11-13 18:39:00|      E|  Learning| 240.0|       Cash|     France|\n",
      "+--------------------+----------+-------------------+-------+----------+------+-----------+-----------+\n",
      "only showing top 20 rows\n",
      "\n"
     ]
    }
   ],
   "source": [
    "transaction_asg = spark.read \\\n",
    "             .format('csv') \\\n",
    "             .option(\"inferSchema\", \"true\") \\\n",
    "             .option(\"delimiter\", \",\") \\\n",
    "             .option('header','true') \\\n",
    "             .load('../data/transactions-asignment.csv')\n",
    "\n",
    "transaction_asg.show()"
   ]
  },
  {
   "cell_type": "markdown",
   "metadata": {},
   "source": [
    "Primero, construimos las dos nuevas columnas para el mes y el año en el Dataframe `transactionDF` que nos harán falta para contestar a las preguntas de negocio"
   ]
  },
  {
   "cell_type": "code",
   "execution_count": 5,
   "metadata": {
    "scrolled": true
   },
   "outputs": [
    {
     "name": "stdout",
     "output_type": "stream",
     "text": [
      "+--------------------+----------+-------+----------+------+-----------+-----------+----+-----+\n",
      "|       TransactionID|CustomerID|Product|     Group|Amount|PaymentType|    Country|Year|Month|\n",
      "+--------------------+----------+-------+----------+------+-----------+-----------+----+-----+\n",
      "|7564e71a-3050-11e...|      4255|      I|       Gym| 231.0|   American|     Sweden|2018|   07|\n",
      "|7565ad98-3050-11e...|     30514|      D|       Gym|  59.7|      Check|     Mexico|2018|   03|\n",
      "|7565ad99-3050-11e...|      3853|      B|    Travel|3782.0|       Cash|     Mexico|2018|   12|\n",
      "|7565ad9a-3050-11e...|     49729|      I|  Gambling| 231.0|      Check|      Italy|2018|   04|\n",
      "|7565ad9b-3050-11e...|     33467|      G|      Food|289.26| Mastercard|     Sweden|2018|   02|\n",
      "|7565ad9c-3050-11e...|     45120|      I|Restaurant|  23.1|      Check|         UK|2018|   09|\n",
      "|7565ad9d-3050-11e...|      9965|      C|    Travel|2590.0|      Check|Switzerland|2018|   11|\n",
      "|7565ad9e-3050-11e...|     20404|      J|   Leisure| 12.93| Mastercard|    Denmark|2018|   08|\n",
      "|7565ad9f-3050-11e...|     46043|      A|       Gym| 234.0|       Visa|     Brasil|2018|   08|\n",
      "|7565ada0-3050-11e...|      7053|      E|       Gym| 93.47|       Visa|    Denmark|2018|   02|\n",
      "|7565ada1-3050-11e...|      6692|      F|  Learning| 350.0|     PayPal|     Mexico|2018|   02|\n",
      "|7565ada2-3050-11e...|     30493|      A|       Gym| 234.0|      Check|      Italy|2018|   06|\n",
      "|7565ada3-3050-11e...|     31664|      I|  Gambling| 231.0|       Visa|     Mexico|2018|   10|\n",
      "|7565ada4-3050-11e...|     32542|      J|   Leisure| 12.93|     PayPal|    Denmark|2018|   09|\n",
      "|7565ada5-3050-11e...|     46420|      G|  Learning|  60.0|       Cash|     Russia|2018|   10|\n",
      "|7565ada6-3050-11e...|     12549|      E|  Gambling| 334.7|      Check|    Germany|2018|   10|\n",
      "|7565ada7-3050-11e...|     31171|      C|      Food| 90.45|      Check|     Russia|2018|   10|\n",
      "|7565ada8-3050-11e...|     16362|      D|      Food|125.78|      Check|     Canada|2018|   03|\n",
      "|7565ada9-3050-11e...|     39546|      D|      Food|125.78|       Cash|    Germany|2018|   10|\n",
      "|7565adaa-3050-11e...|      7571|      E|  Learning| 240.0|       Cash|     France|2018|   11|\n",
      "+--------------------+----------+-------+----------+------+-----------+-----------+----+-----+\n",
      "only showing top 20 rows\n",
      "\n"
     ]
    }
   ],
   "source": [
    "from pyspark.sql import functions as f\n",
    "\n",
    "transactionDF = transaction_asg.withColumn('Year',f.split(transaction_asg.Date, '-')[0]) \\\n",
    "             .withColumn('Month',f.split(transaction_asg.Date, '-')[1]) \\\n",
    "             .drop('Date')\n",
    "transactionDF.show()\n"
   ]
  },
  {
   "cell_type": "markdown",
   "metadata": {},
   "source": [
    "### 1. Datasets para el departamento de marketing de producto"
   ]
  },
  {
   "cell_type": "markdown",
   "metadata": {},
   "source": [
    "#### 1.a Contruimos los DataFrames"
   ]
  },
  {
   "cell_type": "code",
   "execution_count": 6,
   "metadata": {},
   "outputs": [
    {
     "name": "stdout",
     "output_type": "stream",
     "text": [
      "+-----------+----------+-----+----------+--------+------------------+\n",
      "|    Country|     Group|Month|TotalMonth|AvgMonth|NumberTransactions|\n",
      "+-----------+----------+-----+----------+--------+------------------+\n",
      "|    Germany|  Gambling|   10| 346577.10|  341.46|              1015|\n",
      "|     Sweden|      Food|   10| 248074.74|  265.32|               935|\n",
      "|    Denmark|Restaurant|   10| 105410.08|  106.69|               988|\n",
      "|     Brasil|       Gym|   06| 179087.93|  180.35|               993|\n",
      "|      Italy|  Learning|   09| 195458.00|  204.45|               956|\n",
      "|        USA|       Gym|   05| 181105.56|  184.99|               979|\n",
      "|     Russia|      Food|   08| 257216.29|  265.72|               968|\n",
      "|     France|   Leisure|   10|  40978.78|   40.49|              1012|\n",
      "|Switzerland|   Leisure|   06|  43255.43|   41.95|              1031|\n",
      "|      Italy|  Gambling|   01| 332870.00|  335.89|               991|\n",
      "|     Mexico|    Travel|   09|2738803.00| 2703.66|              1013|\n",
      "|        USA|   Leisure|   06|  42854.82|   41.33|              1037|\n",
      "|     Brasil|  Gambling|   02| 343266.80|  336.54|              1020|\n",
      "|     Russia|      Food|   11| 257035.57|  258.85|               993|\n",
      "|     France|       Gym|   11| 163806.57|  171.89|               953|\n",
      "|     Mexico|Restaurant|   09| 110538.28|  109.77|              1007|\n",
      "|     Canada|  Learning|   07| 206992.00|  202.93|              1020|\n",
      "|    Denmark|Restaurant|   03| 106326.40|  106.75|               996|\n",
      "|     Brasil|  Gambling|   12| 334631.80|  338.35|               989|\n",
      "|     Brasil|    Travel|   02|2742143.00| 2712.31|              1011|\n",
      "+-----------+----------+-----+----------+--------+------------------+\n",
      "only showing top 20 rows\n",
      "\n"
     ]
    }
   ],
   "source": [
    "transaction_group = transactionDF.groupBy('Country','Group','Month') \\\n",
    "             .agg(f.sum('Amount').cast(\"decimal(12,2)\").alias('TotalMonth'),f.round(f.mean('Amount'),2).alias('AvgMonth'),f.count('TransactionID').alias('NumberTransactions'))\n",
    "transaction_group.show()\n"
   ]
  },
  {
   "cell_type": "code",
   "execution_count": 7,
   "metadata": {},
   "outputs": [
    {
     "name": "stdout",
     "output_type": "stream",
     "text": [
      "+-----------+----------+-----+-------+----------+--------+----------------------+\n",
      "|    Country|     Group|Month|Product|TotalMonth|AvgMonth|Number of Transactions|\n",
      "+-----------+----------+-----+-------+----------+--------+----------------------+\n",
      "|    Germany|   Leisure|   02|      F|   4578.33|   45.33|                   101|\n",
      "|     Russia|      Food|   12|      B|  48298.20|   478.2|                   101|\n",
      "|      Italy|Restaurant|   03|      C|  27195.00|   259.0|                   105|\n",
      "|     Canada|       Gym|   05|      G|  31501.00|   289.0|                   109|\n",
      "|     Mexico|  Gambling|   01|      G|  31212.00|   289.0|                   108|\n",
      "|Switzerland|  Learning|   11|      B|  30189.00|   347.0|                    87|\n",
      "|      Italy|    Travel|   06|      I| 291060.00|  2310.0|                   126|\n",
      "|     France|    Travel|   12|      D|  60894.00|   597.0|                   102|\n",
      "|        USA|   Leisure|   09|      G|   3121.20|    28.9|                   108|\n",
      "|     Brasil|    Travel|   05|      B| 404674.00|  3782.0|                   107|\n",
      "|        USA|    Travel|   01|      D|  48357.00|   597.0|                    81|\n",
      "|     Russia|       Gym|   12|      J|  14093.70|   129.3|                   109|\n",
      "|     Brasil|  Learning|   05|      I|  32400.00|   324.0|                   100|\n",
      "|     Sweden|Restaurant|   09|      H|   5094.96|   48.99|                   104|\n",
      "|Switzerland|  Gambling|   02|      H|  49479.90|   489.9|                   101|\n",
      "|      Italy|      Food|   06|      C|  10401.75|   90.45|                   115|\n",
      "|     Canada|       Gym|   09|      B|   4160.34|   47.82|                    87|\n",
      "|Switzerland|  Learning|   05|      H|  26299.00|   289.0|                    91|\n",
      "|Switzerland|    Travel|   10|      I| 196350.00|  2310.0|                    85|\n",
      "|     Mexico|   Leisure|   08|      F|   3762.39|   45.33|                    83|\n",
      "+-----------+----------+-----+-------+----------+--------+----------------------+\n",
      "only showing top 20 rows\n",
      "\n"
     ]
    }
   ],
   "source": [
    "transaction_product = transactionDF.groupBy('Country','Group','Month','Product') \\\n",
    "             .agg(f.sum('Amount').cast(\"decimal(12,2)\").alias('TotalMonth'),f.round(f.mean('Amount'),2).alias('AvgMonth'),f.count('TransactionID').alias('Number of Transactions'))\n",
    "transaction_product.show()\n"
   ]
  },
  {
   "cell_type": "markdown",
   "metadata": {},
   "source": [
    "#### 1.b Número de registros"
   ]
  },
  {
   "cell_type": "code",
   "execution_count": 8,
   "metadata": {},
   "outputs": [
    {
     "name": "stdout",
     "output_type": "stream",
     "text": [
      "Numero de registros en el primer DataFrame:  1008\n",
      "Numero de registros en el segundo DataFrame:  10080\n"
     ]
    }
   ],
   "source": [
    "print('Numero de registros en el primer DataFrame: ', transaction_group.count())\n",
    "print('Numero de registros en el segundo DataFrame: ', transaction_product.count())"
   ]
  },
  {
   "cell_type": "markdown",
   "metadata": {},
   "source": [
    "### 2. Respuesta a cuál es el país y el mes con mayor cantidad de venta para el grupo Restaurante"
   ]
  },
  {
   "cell_type": "code",
   "execution_count": 9,
   "metadata": {},
   "outputs": [],
   "source": [
    "transaction_group.createOrReplaceTempView(\"trans_group_t\")"
   ]
  },
  {
   "cell_type": "code",
   "execution_count": 10,
   "metadata": {},
   "outputs": [
    {
     "name": "stdout",
     "output_type": "stream",
     "text": [
      "+-------+-----+----------+----------+------------------+\n",
      "|country|month|     group|TotalMonth|NumberTransactions|\n",
      "+-------+-----+----------+----------+------------------+\n",
      "|  Italy|   04|Restaurant| 118583.97|              1060|\n",
      "+-------+-----+----------+----------+------------------+\n",
      "\n"
     ]
    }
   ],
   "source": [
    "spark.sql(\"SELECT country,month,group,TotalMonth,NumberTransactions FROM trans_group_t WHERE group= 'Restaurant' ORDER BY TotalMonth DESC LIMIT 1\").show()"
   ]
  },
  {
   "cell_type": "markdown",
   "metadata": {},
   "source": [
    "### 3. Respuesta a cuál es el producto con la mayor venta en Gambling y cuál es el país y el mes en los que se ha producido esa venta"
   ]
  },
  {
   "cell_type": "code",
   "execution_count": 11,
   "metadata": {},
   "outputs": [],
   "source": [
    "transaction_product.createOrReplaceTempView(\"trans_product_t\")"
   ]
  },
  {
   "cell_type": "code",
   "execution_count": 12,
   "metadata": {},
   "outputs": [
    {
     "name": "stdout",
     "output_type": "stream",
     "text": [
      "+-------+-----+--------+-------+----------+\n",
      "|country|month|   Group|Product|TotalMonth|\n",
      "+-------+-----+--------+-------+----------+\n",
      "| Russia|   10|Gambling|      D|  71640.00|\n",
      "+-------+-----+--------+-------+----------+\n",
      "\n"
     ]
    }
   ],
   "source": [
    "spark.sql(\"SELECT country,month,Group,Product,TotalMonth FROM trans_product_t WHERE Group='Gambling' ORDER BY TotalMonth DESC LIMIT 1\").show()"
   ]
  },
  {
   "cell_type": "markdown",
   "metadata": {},
   "source": [
    "### 4. Respuesta a la cantidad de IVA a liquidar con cada país"
   ]
  },
  {
   "cell_type": "code",
   "execution_count": 13,
   "metadata": {},
   "outputs": [
    {
     "name": "stdout",
     "output_type": "stream",
     "text": [
      "+---+-----------+\n",
      "|VAT|    Country|\n",
      "+---+-----------+\n",
      "| 21|      Italy|\n",
      "| 19|     France|\n",
      "| 18|    Germany|\n",
      "| 20|        USA|\n",
      "| 18|     Brasil|\n",
      "| 18|         UK|\n",
      "| 18|Switzerland|\n",
      "| 18|     Sweden|\n",
      "| 19|    Denmark|\n",
      "| 21|     Canada|\n",
      "| 18|     Mexico|\n",
      "| 21|     Russia|\n",
      "+---+-----------+\n",
      "\n"
     ]
    }
   ],
   "source": [
    "country_vat = spark.read \\\n",
    "             .format('csv') \\\n",
    "             .option(\"inferSchema\", \"true\") \\\n",
    "             .option(\"delimiter\", \",\") \\\n",
    "             .option('header','true') \\\n",
    "             .load('../data/country-vat.csv')\n",
    "\n",
    "country_vat.show()"
   ]
  },
  {
   "cell_type": "code",
   "execution_count": 14,
   "metadata": {},
   "outputs": [
    {
     "name": "stdout",
     "output_type": "stream",
     "text": [
      "+-----------+--------------------+\n",
      "|    Country|          TotalMonth|\n",
      "+-----------+--------------------+\n",
      "|     Russia|4.5913706530000106E7|\n",
      "|     Sweden| 4.583002558000009E7|\n",
      "|    Germany| 4.565745817000011E7|\n",
      "|     France| 4.547257416000011E7|\n",
      "|      Italy| 4.567639189000008E7|\n",
      "|    Denmark| 4.535337095000008E7|\n",
      "|        USA|4.5964789340000145E7|\n",
      "|     Mexico| 4.588160267000013E7|\n",
      "|         UK| 4.554704884000009E7|\n",
      "|Switzerland| 4.589588048000009E7|\n",
      "|     Canada|4.5358978390000135E7|\n",
      "|     Brasil| 4.558835685000007E7|\n",
      "+-----------+--------------------+\n",
      "\n"
     ]
    }
   ],
   "source": [
    "transaction_country = transactionDF.groupBy('Country') \\\n",
    "             .agg(f.sum('Amount').alias('TotalMonth'))\n",
    "transaction_country.show()\n"
   ]
  },
  {
   "cell_type": "code",
   "execution_count": 15,
   "metadata": {},
   "outputs": [
    {
     "name": "stdout",
     "output_type": "stream",
     "text": [
      "+--------------------+---+-----------+\n",
      "|          TotalMonth|VAT|    Country|\n",
      "+--------------------+---+-----------+\n",
      "|4.5913706530000106E7| 21|     Russia|\n",
      "| 4.583002558000009E7| 18|     Sweden|\n",
      "| 4.565745817000011E7| 18|    Germany|\n",
      "| 4.547257416000011E7| 19|     France|\n",
      "| 4.567639189000008E7| 21|      Italy|\n",
      "| 4.535337095000008E7| 19|    Denmark|\n",
      "|4.5964789340000145E7| 20|        USA|\n",
      "| 4.588160267000013E7| 18|     Mexico|\n",
      "| 4.554704884000009E7| 18|         UK|\n",
      "| 4.589588048000009E7| 18|Switzerland|\n",
      "|4.5358978390000135E7| 21|     Canada|\n",
      "| 4.558835685000007E7| 18|     Brasil|\n",
      "+--------------------+---+-----------+\n",
      "\n"
     ]
    }
   ],
   "source": [
    "transaction_country1 = transaction_country.withColumnRenamed('Country','CountryName')\n",
    "transaction_country_vat = transaction_country1.join(country_vat, transaction_country1.CountryName == country_vat.Country,'left').drop('CountryName')\n",
    "                                                                  \n",
    "transaction_country_vat.show()"
   ]
  },
  {
   "cell_type": "code",
   "execution_count": 16,
   "metadata": {},
   "outputs": [
    {
     "name": "stdout",
     "output_type": "stream",
     "text": [
      "+--------------------+---+-----------+---------+\n",
      "|          TotalMonth|VAT|    Country|      Tax|\n",
      "+--------------------+---+-----------+---------+\n",
      "|4.5913706530000106E7| 21|     Russia|7968495.0|\n",
      "| 4.583002558000009E7| 18|     Sweden|6991021.0|\n",
      "| 4.565745817000011E7| 18|    Germany|6964697.0|\n",
      "| 4.547257416000011E7| 19|     France|7260327.0|\n",
      "| 4.567639189000008E7| 21|      Italy|7927308.0|\n",
      "| 4.535337095000008E7| 19|    Denmark|7241295.0|\n",
      "|4.5964789340000145E7| 20|        USA|7660798.0|\n",
      "| 4.588160267000013E7| 18|     Mexico|6998889.0|\n",
      "| 4.554704884000009E7| 18|         UK|6947855.0|\n",
      "| 4.589588048000009E7| 18|Switzerland|7001067.0|\n",
      "|4.5358978390000135E7| 21|     Canada|7872219.0|\n",
      "| 4.558835685000007E7| 18|     Brasil|6954156.0|\n",
      "+--------------------+---+-----------+---------+\n",
      "\n"
     ]
    }
   ],
   "source": [
    "\n",
    "transaction_country1 = transaction_country.withColumnRenamed('Country','CountryName')\n",
    "transaction_country_vat = transaction_country1.join(country_vat, transaction_country1.CountryName == country_vat.Country,'left').drop('CountryName')\\\n",
    "                            .withColumn(\"Tax\", (f.round(f.col('TotalMonth')*(f.col('VAT'))/(f.col('VAT')+100))))\n",
    "                                                                  \n",
    "transaction_country_vat.show()"
   ]
  },
  {
   "cell_type": "markdown",
   "metadata": {},
   "source": [
    "El país con mayor IVA a liquidar es: (Russia|8,003,340.04) y el menor (UK|6,947,854.91)"
   ]
  },
  {
   "cell_type": "markdown",
   "metadata": {},
   "source": [
    "### 5. Respuesta a la cantidad total por tipo de pago (excepto pagos en cash) a liquidar con nuestro banco"
   ]
  },
  {
   "cell_type": "code",
   "execution_count": 17,
   "metadata": {},
   "outputs": [
    {
     "name": "stdout",
     "output_type": "stream",
     "text": [
      "+-----------+-----------+\n",
      "|PaymentType|      Total|\n",
      "+-----------+-----------+\n",
      "|      Check|91842289.77|\n",
      "|       Visa|91727292.28|\n",
      "| Mastercard|91343170.82|\n",
      "|   American|90893043.24|\n",
      "|     PayPal|90871507.94|\n",
      "+-----------+-----------+\n",
      "\n"
     ]
    }
   ],
   "source": [
    "total_type_payment = transaction_asg.filter(transaction_asg.PaymentType != \"Cash\")\\\n",
    "                            .groupBy(\"PaymentType\")\\\n",
    "                            .agg(f.sum(\"Amount\").cast(\"decimal(12,2)\").alias(\"Total\"))\\\n",
    "                            .sort(\"Total\", ascending=False)\n",
    "\n",
    "total_type_payment.show()"
   ]
  },
  {
   "cell_type": "markdown",
   "metadata": {},
   "source": [
    "### 6. Respuesta a quién es nuestro mejor cliente y cual es su número de tarjeta de crédito"
   ]
  },
  {
   "cell_type": "code",
   "execution_count": 41,
   "metadata": {},
   "outputs": [
    {
     "name": "stdout",
     "output_type": "stream",
     "text": [
      "+----------+--------------+\n",
      "|CustomerID|    CardNumber|\n",
      "+----------+--------------+\n",
      "|         0|15056453071315|\n",
      "|         1|15056453588315|\n",
      "|         2|15056453027428|\n",
      "|         3|15056453920562|\n",
      "|         4|15056453139712|\n",
      "|         5|15056453728136|\n",
      "|         6|15056453811382|\n",
      "|         7|15056453319623|\n",
      "|         8|15056453773603|\n",
      "|         9|15056453113544|\n",
      "|        10|15056453466129|\n",
      "|        11|15056453388773|\n",
      "|        12|15056453171508|\n",
      "|        13|15056453557940|\n",
      "|        14|15056453946043|\n",
      "|        15|15056453937730|\n",
      "|        16|15056453042890|\n",
      "|        17|15056453318771|\n",
      "|        18|15056453544763|\n",
      "|        19|15056453173430|\n",
      "+----------+--------------+\n",
      "only showing top 20 rows\n",
      "\n"
     ]
    }
   ],
   "source": [
    "customer_DF = spark.read\\\n",
    "            .format(\"csv\")\\\n",
    "            .option(\"inferSchema\", \"true\")\\\n",
    "            .option(\"header\", \"true\")\\\n",
    "            .load(\"../data/customer-data-asignment.csv\")\n",
    "\n",
    "customer_DF.show()"
   ]
  },
  {
   "cell_type": "code",
   "execution_count": 42,
   "metadata": {},
   "outputs": [
    {
     "name": "stdout",
     "output_type": "stream",
     "text": [
      "+------------+-------------+--------------+\n",
      "|Customer_ID3|TotalCustomer|    CardNumber|\n",
      "+------------+-------------+--------------+\n",
      "|       23271|     15969.39|15056453065678|\n",
      "+------------+-------------+--------------+\n",
      "only showing top 1 row\n",
      "\n"
     ]
    }
   ],
   "source": [
    "Trans3 = transactionDF.withColumnRenamed(\"CustomerID\", \"Customer_ID3\")\n",
    "#Trans3.show()\n",
    "BestCustomer = Trans3.groupBy(\"Customer_ID3\")\\\n",
    "                .agg(f.round(f.sum(\"Amount\"),3).alias(\"TotalCustomer\"))\\\n",
    "                .sort(\"TotalCustomer\", ascending=False)\n",
    "\n",
    "#BestCustomer.show()\n",
    "BestCustomerData =   BestCustomer.join(customer_DF, BestCustomer[\"Customer_ID3\"] == customer_DF[\"CustomerID\"], \"left\")\\\n",
    "                    .drop(\"CustomerID\")\n",
    "                    \n",
    "\n",
    "BestCustomerData.show(1)\n"
   ]
  },
  {
   "cell_type": "markdown",
   "metadata": {},
   "source": [
    "### 7. Cálculo del total procedente de USA por tipo de pago"
   ]
  },
  {
   "cell_type": "code",
   "execution_count": 46,
   "metadata": {},
   "outputs": [
    {
     "name": "stdout",
     "output_type": "stream",
     "text": [
      "+---------------+----------+\n",
      "|PaymentType_USA| Total_USA|\n",
      "+---------------+----------+\n",
      "|           Visa|7837635.69|\n",
      "|          Check|7827298.36|\n",
      "|     Mastercard|7750294.77|\n",
      "|         PayPal|7415358.01|\n",
      "|           Cash|7636967.96|\n",
      "|       American|7497234.55|\n",
      "+---------------+----------+\n",
      "\n"
     ]
    }
   ],
   "source": [
    "USA_total = transactionDF.filter(f.col(\"Country\")==\"USA\")\\\n",
    "                        .groupBy(f.col(\"PaymentType\").alias(\"PaymentType_USA\"))\\\n",
    "                        .agg(f.round(f.sum(\"Amount\"),2).alias(\"Total_USA\"))\n",
    "USA_total.show()"
   ]
  },
  {
   "cell_type": "markdown",
   "metadata": {},
   "source": [
    "### 8. Cuál es la relación entre el total procedente de USA y el procedente de fuera de USA por tipo de pago"
   ]
  },
  {
   "cell_type": "code",
   "execution_count": 47,
   "metadata": {},
   "outputs": [
    {
     "name": "stdout",
     "output_type": "stream",
     "text": [
      "+------------------+------------+\n",
      "|PaymentType_NO_USA|Total_NO_USA|\n",
      "+------------------+------------+\n",
      "|              Visa| 83889656.59|\n",
      "|             Check| 84014991.41|\n",
      "|        Mastercard| 83592876.05|\n",
      "|            PayPal| 83456149.93|\n",
      "|              Cash| 83825911.84|\n",
      "|          American| 83395808.69|\n",
      "+------------------+------------+\n",
      "\n"
     ]
    }
   ],
   "source": [
    "NO_USA = transactionDF.filter(f.col(\"Country\")!=\"USA\")\\\n",
    "                    .groupBy(f.col(\"PaymentType\").alias(\"PaymentType_NO_USA\"))\\\n",
    "                    .agg(f.sum(\"Amount\").cast(\"decimal(12,2)\").alias(\"Total_NO_USA\"))\n",
    "NO_USA.show()"
   ]
  },
  {
   "cell_type": "code",
   "execution_count": 60,
   "metadata": {},
   "outputs": [
    {
     "name": "stdout",
     "output_type": "stream",
     "text": [
      "+-----------+------------+----------+-----------+--------+-----------+\n",
      "|PaymentType|Total_NO_USA| Total_USA|Total_World|USA_Perc|NO_USA_Perc|\n",
      "+-----------+------------+----------+-----------+--------+-----------+\n",
      "|       Visa| 83889656.59|7837635.69|91727292.28|   8.544|     91.456|\n",
      "|      Check| 84014991.41|7827298.36|91842289.77|   8.523|     91.477|\n",
      "| Mastercard| 83592876.05|7750294.77|91343170.82|   8.485|     91.515|\n",
      "|     PayPal| 83456149.93|7415358.01|90871507.94|    8.16|     91.840|\n",
      "|       Cash| 83825911.84|7636967.96|91462879.80|    8.35|     91.650|\n",
      "|   American| 83395808.69|7497234.55|90893043.24|   8.248|     91.752|\n",
      "+-----------+------------+----------+-----------+--------+-----------+\n",
      "\n"
     ]
    }
   ],
   "source": [
    "Total =    transactionDF.groupBy(\"PaymentType\")\\\n",
    "                .agg(f.sum(\"Amount\").cast(\"decimal(12,2)\").alias(\"Total_World\"))\\\n",
    "\n",
    "#Total.show()\n",
    "USA_vs_NO_USA1 =  NO_USA.join(USA_total, NO_USA[\"PaymentType_NO_USA\"] == USA_total[\"PaymentType_USA\"], \"left\")\\\n",
    "                    .drop(\"PaymentType_USA\")\n",
    "#USA_vs_NO_USA.show()\n",
    "\n",
    "USA_vs_NO_USA2 = USA_vs_NO_USA1.join(Total, USA_vs_NO_USA1[\"PaymentType_NO_USA\"] == Total[\"PaymentType\"], \"left\")\\\n",
    "                    .drop(\"PaymentType\").withColumnRenamed(\"PaymentType_NO_USA\", \"PaymentType\")\\\n",
    "                    .withColumn(\"USA_Perc\",f.round(f.col(\"Total_USA\")/f.col(\"Total_World\")*100,3))\\\n",
    "                    .withColumn(\"NO_USA_Perc\",f.round(f.col(\"Total_NO_USA\")/f.col(\"Total_World\")*100,3))\\\n",
    "\n",
    "\n",
    "    \n",
    "USA_vs_NO_USA2.show()"
   ]
  },
  {
   "cell_type": "markdown",
   "metadata": {},
   "source": [
    "Las columnas \"USA_Perc\" y \"NO_USA_Perc\" muestran los porcetajes respecto al total mundial por medio de pago \n"
   ]
  },
  {
   "cell_type": "code",
   "execution_count": null,
   "metadata": {},
   "outputs": [],
   "source": [
    "sc.stop()"
   ]
  }
 ],
 "metadata": {
  "kernelspec": {
   "display_name": "Python 3 (ipykernel)",
   "language": "python",
   "name": "python3"
  },
  "language_info": {
   "codemirror_mode": {
    "name": "ipython",
    "version": 3
   },
   "file_extension": ".py",
   "mimetype": "text/x-python",
   "name": "python",
   "nbconvert_exporter": "python",
   "pygments_lexer": "ipython3",
   "version": "3.7.11"
  }
 },
 "nbformat": 4,
 "nbformat_minor": 4
}
